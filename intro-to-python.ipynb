{
 "cells": [
  {
   "cell_type": "code",
   "execution_count": null,
   "metadata": {
    "colab": {},
    "colab_type": "code",
    "id": "4BSAs9O6kBHL"
   },
   "outputs": [],
   "source": [
    "from IPython.display import Image\n",
    "from IPython.core.display import HTML \n",
    "import numpy as np"
   ]
  },
  {
   "cell_type": "markdown",
   "metadata": {
    "colab_type": "text",
    "id": "DWbp70nPcVY0"
   },
   "source": [
    "# **Welcome to the Kresge Library's Introduction to Python**\n",
    "### **By Richa Bhattacharya and Carlos E. Ortega**\n",
    "##### In Collaboration with the Division of Data Science's [Data Peer Consulting](https://data.berkeley.edu/ds-peer-consulting)"
   ]
  },
  {
   "cell_type": "markdown",
   "metadata": {},
   "source": [
    "# BEFORE WE BEGIN\n",
    "### Please Complete This Brief Pre-Workshop Survey\n",
    "https://forms.gle/rFSV9LoMfqjRAydM6"
   ]
  },
  {
   "cell_type": "markdown",
   "metadata": {},
   "source": [
    "# Richa Bhattacharya\n",
    "![Richa](https://data.berkeley.edu/sites/default/files/styles/width_400/public/richa_-_richa_bhattacharya.jpg?itok=Mr7ME_3R&timestamp=1599264242)\n",
    "\n",
    "Quick Facts About Me:\n",
    "\n",
    "    🐻 Junior at Cal\n",
    "    🎒 Studying Computer Science, Data Science\n",
    "    👨🏼‍🏫 Academic Intern for CS61A and CS61B\n",
    "    🏢 Previously interned at American Express\n",
    "    📊 Joined the Data Peer Consulting team in Fall 2019\n",
    "\n",
    "How to Reach/Stalk Me:\n",
    "\n",
    "    📮 Email: richa.b@berkeley.edu\n",
    "    👨🏼‍💻 Github: @richab2000"
   ]
  },
  {
   "cell_type": "markdown",
   "metadata": {},
   "source": [
    "# Carlos Eduardo Ortega\n",
    "![Carlos](https://data.berkeley.edu/sites/default/files/styles/width_400/public/img_3245_-_carlos_ortega.jpeg?itok=6cdS9XWS&timestamp=1599261924)\n",
    "Quick Facts About Me:\n",
    "\n",
    "    🐻 Senior at Cal\n",
    "    🎒 Studying Cognitive Science, interest in NLP\n",
    "    👨🏼‍🏫 I love to teach\n",
    "    🏢 Previously worked for U.S. Census Bureau, ICSI, Data 8 Course Staff\n",
    "    📊 Joined the Data Peer Consulting team in Fall '18\n",
    "\n",
    "How to Reach/Stalk Me:\n",
    "\n",
    "    📮 Email: ceos@berkeley.edu\n",
    "    👨🏼‍💻 Github: @SoyCarlos"
   ]
  },
  {
   "cell_type": "markdown",
   "metadata": {
    "colab_type": "text",
    "id": "qiVIlE3ecVZE"
   },
   "source": [
    "# What is Python?"
   ]
  },
  {
   "cell_type": "markdown",
   "metadata": {
    "colab_type": "text",
    "id": "QH8gd9GqxOIx"
   },
   "source": [
    "![Python Logo](images/python-logo.png)\n",
    "\n",
    "From [Python's Official Site](https://www.python.org/doc/essays/blurb/):\n",
    "\n",
    "\n",
    "> Python is an **interpreted**, **object-oriented**, **high-level programming language** with dynamic semantics. Its high-level built in data structures, combined with **dynamic typing** and **dynamic binding**, make it very attractive for **Rapid Application Development**, as well as for use as a **scripting** or glue language to connect existing components together. Python's simple, **easy to learn syntax** emphasizes **readability** and therefore reduces the cost of program maintenance. Python supports **modules** and **packages**, which encourages program modularity and code reuse. The Python interpreter and the extensive standard library are available in source or binary form without charge for all major platforms, and can be freely distributed. \n",
    "\n",
    "In layman terms, Python is:\n",
    "- A Programming Language\n",
    "- Easy to read\n",
    "- Easy to learn\n",
    "- Easy to use with other pre-existing programs\n",
    "- Quick to adapt to any use-cases\n",
    "- Open-Source\n",
    "\n",
    "Modules, packages, and libraries are collections of re-usable code used to improve the interoperability of code and the effiency of programmers.\n",
    "\n",
    "Examples:\n",
    "- [Pandas](https://pandas.pydata.org/) - Today's package of choice for data analysis\n",
    "- [Numpy](https://numpy.org/) - Scientific Computing\n",
    "- [Biopython](https://biopython.org/) - Biological Computation\n",
    "- [Astropy](https://www.astropy.org/index.html) - Astronomy\n",
    "- [Nilearn](http://nilearn.github.io/) - Neuroimaging\n",
    "- [SageMath](https://www.sagemath.org/) - Collection of Math Packages (Elementary, Algebra, Calculus, Number Theory, etc)\n"
   ]
  },
  {
   "cell_type": "markdown",
   "metadata": {},
   "source": [
    "### You will quickly notice there is a lot more to learn than what is covered today.\n",
    "# IOKN2K\n",
    "It's OK Not To Know\n",
    "\n",
    "https://dlab.berkeley.edu/blog/what-iokn2k"
   ]
  },
  {
   "cell_type": "markdown",
   "metadata": {
    "colab_type": "text",
    "id": "CRclVvBWcVZV"
   },
   "source": [
    "# Python Fundamentals\n",
    "https://swcarpentry.github.io/python-novice-inflammation/01-intro/index.html\n",
    "\n",
    "### **Simple Calculations and Evaluating Expressions**"
   ]
  },
  {
   "cell_type": "code",
   "execution_count": null,
   "metadata": {
    "colab": {
     "base_uri": "https://localhost:8080/",
     "height": 36
    },
    "colab_type": "code",
    "id": "XhrwDOzgcVZX",
    "outputId": "f0915339-9f08-4676-a599-4ccad6670835"
   },
   "outputs": [],
   "source": [
    "5 + 5"
   ]
  },
  {
   "cell_type": "code",
   "execution_count": null,
   "metadata": {
    "colab": {
     "base_uri": "https://localhost:8080/",
     "height": 36
    },
    "colab_type": "code",
    "id": "jVYLFD3ZbQ6p",
    "outputId": "d0ef01e8-d54e-415a-8264-feb8818253ed"
   },
   "outputs": [],
   "source": [
    "5 * 5 + 10"
   ]
  },
  {
   "cell_type": "markdown",
   "metadata": {
    "colab_type": "text",
    "id": "v0u7Znl1bWvt"
   },
   "source": [
    "As we can see below, Python follows PEMDAS while evaluating expressions"
   ]
  },
  {
   "cell_type": "code",
   "execution_count": null,
   "metadata": {
    "colab": {
     "base_uri": "https://localhost:8080/",
     "height": 36
    },
    "colab_type": "code",
    "id": "APo37dn6bT1Z",
    "outputId": "70da5deb-e1ed-4485-db97-2d978a129c2b"
   },
   "outputs": [],
   "source": [
    "5 * (5 + 10)"
   ]
  },
  {
   "cell_type": "markdown",
   "metadata": {
    "colab_type": "text",
    "id": "VT-Zx2zhbnhP"
   },
   "source": [
    "### **Storing values in variables**"
   ]
  },
  {
   "cell_type": "code",
   "execution_count": null,
   "metadata": {
    "colab": {
     "base_uri": "https://localhost:8080/",
     "height": 36
    },
    "colab_type": "code",
    "id": "WQ0xpPKSbkbA",
    "outputId": "508db8c2-aaab-47df-971e-ad99b6a75b23"
   },
   "outputs": [],
   "source": [
    "workHours = 8\n",
    "workDays = 5\n",
    "hoursPerWeek = workHours * workDays\n",
    "print(\"You work \" + str(hoursPerWeek) + \" hours per week\")"
   ]
  },
  {
   "cell_type": "markdown",
   "metadata": {
    "colab_type": "text",
    "id": "xX_hrmmtc_63"
   },
   "source": [
    "Notice a couple of things happened here: \n",
    "*   we set names of our expressions and were able to use those names to evaluate and create other variables\n",
    "*   print statement takes in a string so we needed to convert our hoursPerWeek variable which has a type int to a type string\n",
    "\n"
   ]
  },
  {
   "cell_type": "markdown",
   "metadata": {
    "colab_type": "text",
    "id": "xU7hlMR7dx5n"
   },
   "source": [
    "### **Built-in Variable Types**"
   ]
  },
  {
   "cell_type": "markdown",
   "metadata": {
    "colab_type": "text",
    "id": "exqAwKRCqzaR"
   },
   "source": [
    "![Data Types](images/data_types.png)"
   ]
  },
  {
   "cell_type": "markdown",
   "metadata": {
    "colab_type": "text",
    "id": "JHloIgkiqpmd"
   },
   "source": [
    "*https://www.w3schools.com/python/python_datatypes.asp*"
   ]
  },
  {
   "cell_type": "markdown",
   "metadata": {
    "colab_type": "text",
    "id": "C2WIiIeSg3Ij"
   },
   "source": [
    "In other programming languages like Java, you would need to specify what type of data your variable holds when you declare it. In Python you don't need to specify:\n",
    "\n",
    "\n"
   ]
  },
  {
   "cell_type": "code",
   "execution_count": null,
   "metadata": {
    "colab": {
     "base_uri": "https://localhost:8080/",
     "height": 36
    },
    "colab_type": "code",
    "id": "670wQe95duzq",
    "outputId": "e5bac039-f99a-4e72-8037-6e0a42d0207e"
   },
   "outputs": [],
   "source": [
    "#In Java:\n",
    "#   int age = 19;\n",
    "#   String name = \"Richa\";\n",
    "\n",
    "#In Python:\n",
    "age = 19\n",
    "name = \"Richa\"\n",
    "print(age, name)"
   ]
  },
  {
   "cell_type": "markdown",
   "metadata": {
    "colab_type": "text",
    "id": "-kPDOc5GiuRq"
   },
   "source": [
    "**Note:** Assigning a value to one variable does not change values of other variables. \n",
    "\n",
    "For example, let's try to convert weight in kilograms to pounds:"
   ]
  },
  {
   "cell_type": "code",
   "execution_count": null,
   "metadata": {
    "colab": {
     "base_uri": "https://localhost:8080/",
     "height": 36
    },
    "colab_type": "code",
    "id": "6AjAQnh1bl6k",
    "outputId": "555b4da1-2d7f-46be-f767-b28f1261f7d3"
   },
   "outputs": [],
   "source": [
    "weight_kgs = 100\n",
    "#There are 2.2 kilograms in a pound\n",
    "weight_lbs = 2.2 * weight_kgs\n",
    "print(str(weight_kgs) + \" kilograms in pounds is \" + str(weight_lbs) + \" lbs\")"
   ]
  },
  {
   "cell_type": "markdown",
   "metadata": {},
   "source": [
    "# ¡Breakout Rooms!"
   ]
  },
  {
   "cell_type": "markdown",
   "metadata": {
    "colab_type": "text",
    "id": "QirezTYbkOQI"
   },
   "source": [
    "### **Exercise:** What data type is 2.2? \n",
    "##### *(Hint: If you're unsure, the ```type(variable)``` function may be useful)*\n",
    "\n"
   ]
  },
  {
   "cell_type": "markdown",
   "metadata": {
    "colab_type": "text",
    "id": "kVCEL-JRlOgo"
   },
   "source": [
    "**ANSWER HERE**"
   ]
  },
  {
   "cell_type": "markdown",
   "metadata": {},
   "source": [
    "### **Exercise:** How can we have our weight return an integer as well?"
   ]
  },
  {
   "cell_type": "code",
   "execution_count": null,
   "metadata": {
    "colab": {
     "base_uri": "https://localhost:8080/",
     "height": 36
    },
    "colab_type": "code",
    "id": "2-A35t94l5IR",
    "outputId": "90b2a8f3-bce6-4b32-f244-091420c96941"
   },
   "outputs": [],
   "source": [
    "weight_lbs = ...\n",
    "print(str(weight_lbs))"
   ]
  },
  {
   "cell_type": "markdown",
   "metadata": {
    "colab_type": "text",
    "id": "CcAOQ9Bnmhv8"
   },
   "source": [
    "### **Exercise:** After every line of this code, write down what you think each variable's value will be:"
   ]
  },
  {
   "cell_type": "code",
   "execution_count": null,
   "metadata": {
    "colab": {},
    "colab_type": "code",
    "id": "IhWXiMoRm1o4"
   },
   "outputs": [],
   "source": [
    "temp_celsius = 5\n",
    "#convert to kelvin = celsius + ~273 \n",
    "temp_kelvin = temp_celsius + 273\n",
    "temp_celsius = temp_celsius + 10"
   ]
  },
  {
   "cell_type": "markdown",
   "metadata": {
    "colab_type": "text",
    "id": "n5l903M_owrl"
   },
   "source": [
    "**ANSWER HERE**"
   ]
  },
  {
   "cell_type": "markdown",
   "metadata": {
    "colab_type": "text",
    "id": "Bw9TyLSdq-Ev"
   },
   "source": [
    "### **Exercise:**\n",
    "*   **Create a variable storing the current temperature at Cal in Fahrenheit**\n",
    "*   **Create a variable converting the current temp to the nearest degree Celsius**\n",
    "*   **Create a variable converting the current temp to the nearest degree Kelvin**\n",
    "*   **Print the following statement as shown below in ONE line of code:**\n",
    "\n"
   ]
  },
  {
   "cell_type": "markdown",
   "metadata": {
    "colab_type": "text",
    "id": "noRMUoV9wMja"
   },
   "source": [
    "![Temps](images/temps.png)"
   ]
  },
  {
   "cell_type": "markdown",
   "metadata": {
    "colab_type": "text",
    "id": "Ad68VI2suzUF"
   },
   "source": [
    "*(Hint: How do you make a new line in a print statement?)*\n",
    "\n",
    "*(Hint: How do you convert a float to an int?)*\n",
    "\n",
    "*(Hint: How do you print integers?)*\n",
    "\n",
    "\n",
    "\n",
    "\n"
   ]
  },
  {
   "cell_type": "code",
   "execution_count": 1,
   "metadata": {
    "colab": {
     "base_uri": "https://localhost:8080/",
     "height": 92
    },
    "colab_type": "code",
    "id": "t8bfYKsltzju",
    "outputId": "6a3806ba-0ff3-4e5a-8fd9-69752008e8a8"
   },
   "outputs": [
    {
     "name": "stdout",
     "output_type": "stream",
     "text": [
      "Ellipsis\n"
     ]
    }
   ],
   "source": [
    "tempf = 70\n",
    "tempc = ...\n",
    "tempk = ...\n",
    "print(...)"
   ]
  },
  {
   "cell_type": "markdown",
   "metadata": {
    "colab_type": "text",
    "id": "7hJ9E3ynvZ4o"
   },
   "source": [
    "\n",
    "\n",
    "---\n",
    "\n"
   ]
  },
  {
   "cell_type": "markdown",
   "metadata": {},
   "source": [
    "# ¡Come Back!"
   ]
  },
  {
   "cell_type": "markdown",
   "metadata": {
    "colab_type": "text",
    "id": "LIddUmPBcVZp"
   },
   "source": [
    "# Repeating Actions with Loops\n",
    "https://swcarpentry.github.io/python-novice-inflammation/04-loop/index.html"
   ]
  },
  {
   "cell_type": "markdown",
   "metadata": {
    "colab_type": "text",
    "id": "ym-NlHMl-2ke"
   },
   "source": [
    "#### **QUESTION:** How can we do the same operations on different values? "
   ]
  },
  {
   "cell_type": "markdown",
   "metadata": {
    "colab_type": "text",
    "id": "zncu0fUFBrfx"
   },
   "source": [
    "Suppose we have the word \"lead\" and we want to print out each individual letter per line. We could write it out manually:\n",
    "\n",
    "\n",
    "\n",
    "```\n",
    "word = \"lead\"\n",
    "print(word[0])\n",
    "print(word[1])\n",
    "print(word[2])\n",
    "print(word[3])\n",
    "```\n",
    "\n"
   ]
  },
  {
   "cell_type": "markdown",
   "metadata": {
    "colab_type": "text",
    "id": "CVJHqNlJDYh3"
   },
   "source": [
    "But this would be super cumbersome if we had to do this for longer words like \"Pseudopseudohypoparathyroidism\".\n",
    "\n",
    "This is where loops would be useful to have:"
   ]
  },
  {
   "cell_type": "code",
   "execution_count": null,
   "metadata": {
    "colab": {
     "base_uri": "https://localhost:8080/",
     "height": 119
    },
    "colab_type": "code",
    "id": "tlj7UW5EBazs",
    "outputId": "d3bde22a-57af-4dba-d596-4a0620a6e239"
   },
   "outputs": [],
   "source": [
    "word = \"python\"\n",
    "for letter in word:\n",
    "  print(letter)"
   ]
  },
  {
   "cell_type": "code",
   "execution_count": null,
   "metadata": {
    "colab": {
     "base_uri": "https://localhost:8080/",
     "height": 34
    },
    "colab_type": "code",
    "id": "JI2LMPjDMrpP",
    "outputId": "724932cf-1210-445f-f9d3-1b0d3b3364c1"
   },
   "outputs": [],
   "source": [
    "word = \"workshop\"\n",
    "lengthOfWord = 0;\n",
    "for letter in word:\n",
    "    lengthOfWord = lengthOfWord + 1\n",
    "print(lengthOfWord)"
   ]
  },
  {
   "cell_type": "markdown",
   "metadata": {
    "colab_type": "text",
    "id": "1tH4wsK5Qj_1"
   },
   "source": [
    "### **Exercise:** What does this code do?"
   ]
  },
  {
   "cell_type": "code",
   "execution_count": null,
   "metadata": {
    "colab": {
     "base_uri": "https://localhost:8080/",
     "height": 34
    },
    "colab_type": "code",
    "id": "S-urI4IiKC9p",
    "outputId": "5b870f00-92ce-4ca5-f463-32daac5891af"
   },
   "outputs": [],
   "source": [
    "total = 1;\n",
    "for i in range(1,6):\n",
    "  total = total*i\n",
    "print(total)"
   ]
  },
  {
   "cell_type": "markdown",
   "metadata": {
    "colab_type": "text",
    "id": "YtJ50hBDcVZ1"
   },
   "source": [
    "# Making Choices with Conditionals\n",
    "https://swcarpentry.github.io/python-novice-inflammation/07-cond/index.html"
   ]
  },
  {
   "cell_type": "markdown",
   "metadata": {
    "colab_type": "text",
    "id": "ovASF0Pc8eMN"
   },
   "source": [
    "When we start working with a lot of data, we might want to start treating different groups of data different from others. Let's see how in the next cell."
   ]
  },
  {
   "cell_type": "code",
   "execution_count": null,
   "metadata": {
    "colab": {
     "base_uri": "https://localhost:8080/",
     "height": 36
    },
    "colab_type": "code",
    "id": "mCS-NSK5cVZ3",
    "outputId": "479e8fde-d637-41ba-cfdf-f1886d109de9"
   },
   "outputs": [],
   "source": [
    "number = 15\n",
    "if number > 0:\n",
    "    print(number, \"is positive!\")"
   ]
  },
  {
   "cell_type": "markdown",
   "metadata": {
    "colab_type": "text",
    "id": "NY5ei-x8-MIp"
   },
   "source": [
    "This is helpful for positive numbers, but I also want to account for negative numbers.\n"
   ]
  },
  {
   "cell_type": "code",
   "execution_count": null,
   "metadata": {
    "colab": {
     "base_uri": "https://localhost:8080/",
     "height": 36
    },
    "colab_type": "code",
    "id": "7f9ECyd1-KRn",
    "outputId": "9d78abf8-fe95-4dbe-b94a-eb8fc49ffcea"
   },
   "outputs": [],
   "source": [
    "number = -15 \n",
    "if number > 0:\n",
    "    print(number, \"is positive!\")\n",
    "else:\n",
    "    print(number, \"is negative!\")"
   ]
  },
  {
   "cell_type": "markdown",
   "metadata": {
    "colab_type": "text",
    "id": "uzf4npcn-9iQ"
   },
   "source": [
    "But wait, what if I input zero, I don't think that's negative or positive."
   ]
  },
  {
   "cell_type": "code",
   "execution_count": null,
   "metadata": {
    "colab": {
     "base_uri": "https://localhost:8080/",
     "height": 36
    },
    "colab_type": "code",
    "id": "L-ySwMT9-818",
    "outputId": "00dca97b-a9e8-4b96-eefa-99eb2559968e"
   },
   "outputs": [],
   "source": [
    "number = 0\n",
    "if number > 0:\n",
    "    print(number, \"is positive!\")\n",
    "elif number < 0:\n",
    "    print(number, \"is negative\")\n",
    "else:\n",
    "    print(number, \"is zero!\")"
   ]
  },
  {
   "cell_type": "markdown",
   "metadata": {
    "colab_type": "text",
    "id": "6vzSGv8uA3tn"
   },
   "source": [
    "I've decided that I'm going to input my favorite numbers into a loop containing these conditional statements to split them up into three lists: positive, negative, and zeroes."
   ]
  },
  {
   "cell_type": "code",
   "execution_count": null,
   "metadata": {
    "colab": {
     "base_uri": "https://localhost:8080/",
     "height": 74
    },
    "colab_type": "code",
    "id": "NSXV7ZPgA2xr",
    "outputId": "dfaf5553-ad67-4958-a09e-5f69931c36c9"
   },
   "outputs": [],
   "source": [
    "favorite_numbers = [4, 0, 8, -12, 15, 16, -1, 23, 0, 42]\n",
    "favorite_positive_numbers = []\n",
    "favorite_negative_numbers = []\n",
    "favorite_zeroes = []\n",
    "\n",
    "for number in favorite_numbers:\n",
    "    if number > 0:\n",
    "        favorite_positive_numbers.append(number)\n",
    "    elif number < 0:\n",
    "        favorite_negative_numbers.append(number)\n",
    "    else:\n",
    "        favorite_zeroes.append(number)\n",
    "\n",
    "print(\"Favorite Positive Numbers:\", favorite_positive_numbers, \"\\nFavorite Negative Numbers:\", favorite_negative_numbers, \"\\nFavorite Zeroes:\", favorite_zeroes)"
   ]
  },
  {
   "cell_type": "markdown",
   "metadata": {
    "colab_type": "text",
    "id": "tcRIZR2F9wL0"
   },
   "source": [
    "In the first section, we mentioned **boolean values**.\n",
    "\n",
    "Boolean values are **True** or **False**.\n",
    "\n",
    "These are most often calculated using relational operators. Some examples of relational operators are:\n",
    "\n",
    "\n",
    "```\n",
    "# Check if two values are equal (==)\n",
    "5 == 1\n",
    "False\n",
    "\n",
    "#Check if two values are NOT equal (!=)\n",
    "5 != 1\n",
    "True\n",
    "\n",
    "# Greater than or equal to (>=)\n",
    "5 >= 1\n",
    "True\n",
    "\n",
    "# Less than or equal to (<=)\n",
    "5 <= 1\n",
    "False\n",
    "\n",
    "# Less than (<)\n",
    "5 < 5\n",
    "False\n",
    "\n",
    "# Greater than (>)\n",
    "5 > 1\n",
    "True\n",
    "```\n",
    "\n"
   ]
  },
  {
   "cell_type": "markdown",
   "metadata": {
    "colab_type": "text",
    "id": "8ql7K2cWDIL5"
   },
   "source": [
    "Conditionals are **if**, **elif**, and **else** statements. If and elif statements run the code inside them only if their boolean value is True, the else statement will be used.\n",
    "\n",
    "\n",
    "```\n",
    "if True:\n",
    "    # Run This Code\n",
    "elif True:\n",
    "    # Run this code\n",
    "else:\n",
    "    # Everything else was False, run this code.\n",
    "```\n",
    "\n",
    "**Note:** All numbers (except 0) and strings on their own are evaluted as True values."
   ]
  },
  {
   "cell_type": "code",
   "execution_count": null,
   "metadata": {
    "colab": {
     "base_uri": "https://localhost:8080/",
     "height": 36
    },
    "colab_type": "code",
    "id": "6ENyh-t09myK",
    "outputId": "87c8e6dc-f1ab-47b4-86bb-65654c15ddcf"
   },
   "outputs": [],
   "source": [
    "if 1:\n",
    "    print(True)"
   ]
  },
  {
   "cell_type": "code",
   "execution_count": null,
   "metadata": {
    "colab": {
     "base_uri": "https://localhost:8080/",
     "height": 36
    },
    "colab_type": "code",
    "id": "n9l8CIBtEZrE",
    "outputId": "12562acc-7202-4df3-b786-12faddb873b9"
   },
   "outputs": [],
   "source": [
    "if 0:\n",
    "    print(True)\n",
    "else:\n",
    "    print(False)"
   ]
  },
  {
   "cell_type": "code",
   "execution_count": null,
   "metadata": {
    "colab": {
     "base_uri": "https://localhost:8080/",
     "height": 36
    },
    "colab_type": "code",
    "id": "xCirg6QREdHA",
    "outputId": "40d60c76-08e8-4772-bcf2-e45317d39788"
   },
   "outputs": [],
   "source": [
    "if \"Anything\":\n",
    "    print(True)"
   ]
  },
  {
   "cell_type": "markdown",
   "metadata": {},
   "source": [
    "# ¡Breakout Rooms!"
   ]
  },
  {
   "cell_type": "markdown",
   "metadata": {
    "colab_type": "text",
    "id": "5usanZHrFKkg"
   },
   "source": [
    "### **Exercise:** \n",
    "#### Create conditional statements that will let me know if the temperature in Berkeley will be Too Hot, Too Cold, or Just Right.\n",
    "\n",
    "**NOTE:** I consider anything below 68 to be too cold, anything above 68 too hot, and 68 to be just right."
   ]
  },
  {
   "cell_type": "code",
   "execution_count": null,
   "metadata": {
    "colab": {
     "base_uri": "https://localhost:8080/",
     "height": 36
    },
    "colab_type": "code",
    "id": "wAcgMfqEEflF",
    "outputId": "cc5c5e40-4c0a-42af-d154-b442b8d04e68"
   },
   "outputs": [],
   "source": [
    "todays_temperature = 68\n",
    "\n",
    "if ...:\n",
    "    print(...)\n",
    "elif ...:\n",
    "    print(...)\n",
    "else:\n",
    "    print(...)"
   ]
  },
  {
   "cell_type": "markdown",
   "metadata": {},
   "source": [
    "# ¡Come Back!"
   ]
  },
  {
   "cell_type": "markdown",
   "metadata": {
    "colab_type": "text",
    "id": "qfHAiYsQcVZ-"
   },
   "source": [
    "# Creating Functions\n",
    "https://swcarpentry.github.io/python-novice-inflammation/08-func/index.html"
   ]
  },
  {
   "cell_type": "markdown",
   "metadata": {
    "colab_type": "text",
    "id": "_8pC4Ghhl8iS"
   },
   "source": [
    "Looking back at converting temperatures from Fahrenheit to Celsius, what if we want to do this for every temperature we are given? This is where creating a function that can do this for us is useful: "
   ]
  },
  {
   "cell_type": "code",
   "execution_count": null,
   "metadata": {
    "colab": {
     "base_uri": "https://localhost:8080/",
     "height": 51
    },
    "colab_type": "code",
    "id": "i6Trh1HecVaA",
    "outputId": "706ca824-d4da-48f9-e00a-c6bbbfa885de"
   },
   "outputs": [],
   "source": [
    "def f_to_c(temp):\n",
    "    return (int)((temp - 32) * (5/9))\n",
    "freezing = f_to_c(32)\n",
    "boiling = f_to_c(212)\n",
    "print('freezing point of water:', freezing, 'C')\n",
    "print('boiling point of water:', boiling, 'C')"
   ]
  },
  {
   "cell_type": "markdown",
   "metadata": {},
   "source": [
    "# ¡Breakout Rooms!"
   ]
  },
  {
   "cell_type": "markdown",
   "metadata": {
    "colab_type": "text",
    "id": "LNXlFIqBvVQ_"
   },
   "source": [
    "#### **Exercise:** Create a function that converts Celsius to Kelvin"
   ]
  },
  {
   "cell_type": "code",
   "execution_count": null,
   "metadata": {
    "colab": {
     "base_uri": "https://localhost:8080/",
     "height": 34
    },
    "colab_type": "code",
    "id": "Lfo3ckupvhvh",
    "outputId": "f33a6416-3069-4d28-fe6f-c97df846a0d8"
   },
   "outputs": [],
   "source": [
    "def c_to_k(temp_c):\n",
    "    return ...\n",
    "\n",
    "print('freezing point of water in Kelvin:', c_to_k(0.))"
   ]
  },
  {
   "cell_type": "markdown",
   "metadata": {
    "colab_type": "text",
    "id": "83g8o2scqniP"
   },
   "source": [
    "#### **Exercise:** Create a function that converts Fahrenheit to Kelvin using the functions we've created previously:"
   ]
  },
  {
   "cell_type": "code",
   "execution_count": null,
   "metadata": {
    "colab": {
     "base_uri": "https://localhost:8080/",
     "height": 34
    },
    "colab_type": "code",
    "id": "dKf_crEzwFVt",
    "outputId": "c5f3f4fb-6a95-4e1c-f39c-b52e96a0d38c"
   },
   "outputs": [],
   "source": [
    "def fahr_to_kelvin(temp_f):\n",
    "    temp_c = ...\n",
    "    temp_k = ...\n",
    "    return ...\n",
    "\n",
    "print('boiling point of water in Kelvin:', fahr_to_kelvin(212.0))"
   ]
  },
  {
   "cell_type": "markdown",
   "metadata": {},
   "source": [
    "# ¡Come Back!"
   ]
  },
  {
   "cell_type": "markdown",
   "metadata": {
    "colab_type": "text",
    "id": "j2_hnqwrwnlH"
   },
   "source": [
    "Functions can be used to make writing code more efficient and less repetitive, but it is also used to encapsulate large chunks of code that solves a particular problem under one name. Below, we can see the function *visualize*, which takes in a filename and visualizes the data that the filename stores."
   ]
  },
  {
   "cell_type": "code",
   "execution_count": null,
   "metadata": {
    "colab": {},
    "colab_type": "code",
    "id": "BoDN2hRwwkRy"
   },
   "outputs": [],
   "source": [
    "def visualize(filename):\n",
    "\n",
    "    data = numpy.loadtxt(fname=filename, delimiter=',')\n",
    "\n",
    "    fig = matplotlib.pyplot.figure(figsize=(10.0, 3.0))\n",
    "\n",
    "    axes1 = fig.add_subplot(1, 3, 1)\n",
    "    axes2 = fig.add_subplot(1, 3, 2)\n",
    "    axes3 = fig.add_subplot(1, 3, 3)\n",
    "\n",
    "    axes1.set_ylabel('average')\n",
    "    axes1.plot(numpy.mean(data, axis=0))\n",
    "\n",
    "    axes2.set_ylabel('max')\n",
    "    axes2.plot(numpy.max(data, axis=0))\n",
    "\n",
    "    axes3.set_ylabel('min')\n",
    "    axes3.plot(numpy.min(data, axis=0))\n",
    "\n",
    "    fig.tight_layout()\n",
    "    matplotlib.pyplot.show()"
   ]
  },
  {
   "cell_type": "code",
   "execution_count": null,
   "metadata": {
    "colab": {
     "base_uri": "https://localhost:8080/",
     "height": 51
    },
    "colab_type": "code",
    "id": "C5r7Gqi5xCb0",
    "outputId": "5f15cf16-5979-4237-b656-6d599ba02f29"
   },
   "outputs": [],
   "source": [
    "def offset_mean(data, target_mean_value):\n",
    "    return (data - np.mean(data)) + target_mean_value\n",
    "\n",
    "z = np.zeros((2,2))\n",
    "print(offset_mean(z, 3))\n",
    "\n"
   ]
  },
  {
   "cell_type": "markdown",
   "metadata": {
    "colab_type": "text",
    "id": "LjlUvWO4DaXv"
   },
   "source": [
    "### **Additional Information**: Commenting"
   ]
  },
  {
   "cell_type": "markdown",
   "metadata": {
    "colab_type": "text",
    "id": "XIyEw_nzEuDY"
   },
   "source": [
    "Throughout this workshop we have seen a couple of examples of commenting within your code using the hash (#) symbol. Another convenient way of commenting your code that will be extremely useful if you are working on a group project is through docstrings"
   ]
  },
  {
   "cell_type": "code",
   "execution_count": null,
   "metadata": {
    "colab": {},
    "colab_type": "code",
    "id": "hIBMKeQWDsOx"
   },
   "outputs": [],
   "source": [
    "#This Function converts temperatures inputted in Fahrenheit to Celsius\n",
    "#Parameters: temperature in Fahrenheit\n",
    "#Return Type: int\n",
    "def f_to_c(temp):\n",
    "    return (int)((temp - 32) * (5/9))"
   ]
  },
  {
   "cell_type": "code",
   "execution_count": null,
   "metadata": {
    "colab": {
     "base_uri": "https://localhost:8080/",
     "height": 119
    },
    "colab_type": "code",
    "id": "jBWdtcy-FFsa",
    "outputId": "1173b75a-68e8-4032-c552-76fa455e256a"
   },
   "outputs": [],
   "source": [
    "def f_to_c(temp):\n",
    "    \"\"\"Return a new array containing the original data\n",
    "       with its mean offset to match the desired value.\"\"\"\n",
    "    return (int) ((temp -32) * (5/9))\n",
    "help(f_to_c)"
   ]
  },
  {
   "cell_type": "markdown",
   "metadata": {
    "colab_type": "text",
    "id": "Agri5FkFFZrP"
   },
   "source": [
    "A string like this is called a docstring. We don’t need to use triple quotes when we write one, but if we do, we can break the string across multiple lines:"
   ]
  },
  {
   "cell_type": "code",
   "execution_count": null,
   "metadata": {
    "colab": {
     "base_uri": "https://localhost:8080/",
     "height": 238
    },
    "colab_type": "code",
    "id": "ukF9qIVVFbGt",
    "outputId": "6d8e86e5-70f3-4c9d-c239-bacd752f0b81"
   },
   "outputs": [],
   "source": [
    "def f_to_c(temp):\n",
    "    \"\"\"Return a new array containing the original data\n",
    "       with its mean offset to match the desired value.\n",
    "\n",
    "    Examples\n",
    "    --------\n",
    "    >>> f_to_c(32)\n",
    "    0\n",
    "    >>> f_to_c(212)\n",
    "    100\n",
    "    \"\"\"\n",
    "    return (int) ((temp -32) * (5/9))\n",
    "\n",
    "help(f_to_c)"
   ]
  },
  {
   "cell_type": "markdown",
   "metadata": {
    "colab_type": "text",
    "id": "65oYc7PycVZf"
   },
   "source": [
    "# Analyzing a Dataset\n",
    "https://swcarpentry.github.io/python-novice-inflammation/02-numpy/index.html"
   ]
  },
  {
   "cell_type": "markdown",
   "metadata": {
    "colab": {},
    "colab_type": "code",
    "id": "zaoch_EY5fXf"
   },
   "source": [
    "Data comes in many file tyes and forms, from SQL Databases to Excel Spreadsheets. One of the most common ways to share data is csv files. They are your traditional tabular data and could be opened in Excel. However, once they start to get larger, Excel can begin to lag or have trouble performing basic operations. We'll practice how to do some of those basic operations here."
   ]
  },
  {
   "cell_type": "code",
   "execution_count": null,
   "metadata": {},
   "outputs": [],
   "source": [
    "# Pandas is our Package, pd is the nickname we'll give it in this notebook\n",
    "import pandas as pd\n",
    "\n",
    "# Pandas reads in data and creates a DataFrame object of them\n",
    "lib_traffic = pd.read_csv('data/HourlyTraffic-2019-12-11.csv')"
   ]
  },
  {
   "cell_type": "markdown",
   "metadata": {},
   "source": [
    "Lets see the first 10 rows"
   ]
  },
  {
   "cell_type": "code",
   "execution_count": null,
   "metadata": {
    "scrolled": true
   },
   "outputs": [],
   "source": [
    "lib_traffic.head(10)"
   ]
  },
  {
   "cell_type": "markdown",
   "metadata": {},
   "source": [
    "Now what if we want to know how big this table is? Lets get the number of rows and columns"
   ]
  },
  {
   "cell_type": "code",
   "execution_count": null,
   "metadata": {},
   "outputs": [],
   "source": [
    "lib_traffic.shape"
   ]
  },
  {
   "cell_type": "markdown",
   "metadata": {},
   "source": [
    "It's a pretty big table, lets see what types of values are in the 'Facility' and 'Entrance' columns."
   ]
  },
  {
   "cell_type": "code",
   "execution_count": null,
   "metadata": {},
   "outputs": [],
   "source": [
    "lib_traffic['Facility'].unique(), lib_traffic['Entrance'].unique()"
   ]
  },
  {
   "cell_type": "markdown",
   "metadata": {},
   "source": [
    "Lets get some quantitative data. What is the highest/lowest number of entries across all libraries and entrances?"
   ]
  },
  {
   "cell_type": "code",
   "execution_count": null,
   "metadata": {},
   "outputs": [],
   "source": [
    "max(lib_traffic['Entries']), min(lib_traffic['Exits'])"
   ]
  },
  {
   "cell_type": "markdown",
   "metadata": {},
   "source": [
    "This type of quantitative data gives us a good overview of our range, but it can be a bit too time-consuming for larger tables with more columns. Luckily, there's a method for that."
   ]
  },
  {
   "cell_type": "code",
   "execution_count": null,
   "metadata": {},
   "outputs": [],
   "source": [
    "lib_traffic.describe()"
   ]
  },
  {
   "cell_type": "markdown",
   "metadata": {},
   "source": [
    "Now, lets sort the Entries and Exits (descending) to find the most popular Entries/Exits."
   ]
  },
  {
   "cell_type": "code",
   "execution_count": null,
   "metadata": {},
   "outputs": [],
   "source": [
    "lib_traffic.sort_values('Entries', ascending=False).head(10)"
   ]
  },
  {
   "cell_type": "code",
   "execution_count": null,
   "metadata": {},
   "outputs": [],
   "source": [
    "lib_traffic.sort_values('Exits', ascending=False).head(10)"
   ]
  },
  {
   "cell_type": "markdown",
   "metadata": {},
   "source": [
    "### Question: What do the Top 10 rows for Entries & Exits have in common?"
   ]
  },
  {
   "cell_type": "markdown",
   "metadata": {},
   "source": [
    "**ANSWER HERE**"
   ]
  },
  {
   "cell_type": "markdown",
   "metadata": {},
   "source": [
    "We can filter out using relational operators that we learned earlier.\n",
    "```\n",
    "table_name[table_name[column] == value] # Only keep rows with this value in the selected column\n",
    "table_name[table_name[column] != value] # Only keep rows WITHOUT this value in the selected column\n",
    "table_name[table_name[column] > value] # Only keep rows with greater values in the selected column\n",
    "```\n",
    "\n",
    "Using this, lets focus on the Engineering Library."
   ]
  },
  {
   "cell_type": "code",
   "execution_count": null,
   "metadata": {},
   "outputs": [],
   "source": [
    "lib_traffic[lib_traffic['Facility'] == 'ENGI Library'].sort_values('Entries', ascending=False).head(10)"
   ]
  },
  {
   "cell_type": "markdown",
   "metadata": {},
   "source": [
    "To get a better pictures of the aggregate values of different groups, Pandas provides the Groupby method. We'll use it below to find the total amount of Entries and Exits by library.\n",
    "\n",
    "[Pandas Groupby Documentation](https://pandas.pydata.org/pandas-docs/stable/reference/api/pandas.DataFrame.groupby.html)"
   ]
  },
  {
   "cell_type": "code",
   "execution_count": null,
   "metadata": {},
   "outputs": [],
   "source": [
    "lib_traffic.groupby('Facility').sum().sort_values('Entries', ascending=False).head(5)"
   ]
  },
  {
   "cell_type": "markdown",
   "metadata": {},
   "source": [
    "# ¡Breakout Rooms!"
   ]
  },
  {
   "cell_type": "markdown",
   "metadata": {},
   "source": [
    "### **Exercise**: What is the most popular entry for Moffit Library? Most popular exit?"
   ]
  },
  {
   "cell_type": "code",
   "execution_count": null,
   "metadata": {},
   "outputs": [],
   "source": [
    "moffit_library = ...\n",
    "moffit_library"
   ]
  },
  {
   "cell_type": "markdown",
   "metadata": {},
   "source": [
    "# ¡Come Back!"
   ]
  },
  {
   "cell_type": "markdown",
   "metadata": {
    "colab_type": "text",
    "id": "sEtWgqVccVaJ"
   },
   "source": [
    "# Introduction to Visualization"
   ]
  },
  {
   "cell_type": "markdown",
   "metadata": {},
   "source": [
    "We will go in-depth into visualizations in the next workshop, but here's a sneak peek at what type of visualization you can learn to do."
   ]
  },
  {
   "cell_type": "code",
   "execution_count": null,
   "metadata": {},
   "outputs": [],
   "source": [
    "# This line is only needed if the next cell says something along the lines of 'Module matplotlib does not exist'\n",
    "#!pip install matplotlib\n",
    "# This line is only needed if the last cell says something along the lines of 'Module statsmodels does not exist'\n",
    "#!pip install statsmodels\n",
    "# This line is only needed if the next cell says something along the lines of 'Module plotly does not exist'\n",
    "# !pip install plotly"
   ]
  },
  {
   "cell_type": "code",
   "execution_count": null,
   "metadata": {
    "colab": {},
    "colab_type": "code",
    "id": "xpONkA6mcVaM"
   },
   "outputs": [],
   "source": [
    "import matplotlib.pyplot as plt"
   ]
  },
  {
   "cell_type": "code",
   "execution_count": null,
   "metadata": {},
   "outputs": [],
   "source": [
    "lib_traffic_clean = lib_traffic[['Date-Time','Facility', 'Entries', 'Exits']].dropna()\n",
    "libs = []\n",
    "for library in lib_traffic_clean['Facility'].unique():\n",
    "    lib = lib_traffic_clean[lib_traffic_clean['Facility'] == library].groupby('Date-Time').sum()\n",
    "    lib['Facility'] = [library] * lib.shape[0]\n",
    "    libs.append(lib)"
   ]
  },
  {
   "cell_type": "code",
   "execution_count": null,
   "metadata": {},
   "outputs": [],
   "source": [
    "moffit = lib_traffic_clean[lib_traffic_clean['Facility'] == 'MOFF Library']\n",
    "moffit = moffit.groupby('Date-Time').sum()\n",
    "\n",
    "plt.figure(figsize=(20,10))\n",
    "plt.plot(moffit.index, moffit['Entries'], label='Entries')\n",
    "plt.plot(moffit.index, moffit['Exits'], label='Exits')\n",
    "plt.xticks(rotation=45)\n",
    "plt.legend()\n",
    "plt.show()"
   ]
  },
  {
   "cell_type": "code",
   "execution_count": null,
   "metadata": {},
   "outputs": [],
   "source": [
    "top5 = lib_traffic_clean.groupby('Facility').sum().sort_values('Entries', ascending=False)[:5].index\n",
    "plt.figure(figsize=(20,10))\n",
    "for library in libs:\n",
    "    if library['Facility'].iloc[0] in top5:\n",
    "        plt.plot(library.index, library['Entries'], label=library['Facility'].iloc[0])\n",
    "plt.legend()\n",
    "plt.xticks(rotation=45)\n",
    "plt.show()"
   ]
  },
  {
   "cell_type": "markdown",
   "metadata": {},
   "source": [
    "The next one is an interactive scatter plot with a local regression line to examine the trend of entries.\n",
    "\n",
    "This was made using [Plotly](https://plotly.com/python/)"
   ]
  },
  {
   "cell_type": "code",
   "execution_count": null,
   "metadata": {},
   "outputs": [],
   "source": [
    "import plotly.express as px\n",
    "data = lib_traffic_clean.groupby('Date-Time').sum().reset_index()\n",
    "fig = px.scatter(data, x=data.index, y='Entries', trendline='lowess', labels={'index':'Time', 'Entries':'Entries'})\n",
    "fig.show()"
   ]
  },
  {
   "cell_type": "markdown",
   "metadata": {},
   "source": [
    "# Thank You for Attending\n",
    "## PLEASE COMPLETE THIS POST-WORKSHOP SURVEY\n",
    "https://forms.gle/LymWW1QKVVZtMCfM7\n",
    "\n",
    "Feel free to reach out to us if you have any other questions.\n",
    "And register for the next workshop, \n",
    "\n",
    "Creating Data Visualizations with Python - https://guides.lib.berkeley.edu/data-analysis"
   ]
  },
  {
   "cell_type": "markdown",
   "metadata": {},
   "source": [
    "# More Resources\n",
    "\n",
    "Thank you so much for attending this workshop. There is always more to learn so we have listed some helpful resources below as you continue your Data Learning Journey.\n",
    "\n",
    "1. Data Peer Consultants - We help Undergrads and Graduate students with projects, research, and more! Come to our drop-in hours. https://data.berkeley.edu/ds-peer-consulting\n",
    "2. Towards Data Science - https://towardsdatascience.com/\n",
    "3. Stack Overflow & Google - https://stackoverflow.com/\n",
    "4. W3Schools - https://www.w3schools.com/python/\n",
    "5. Software Carpentry - https://swcarpentry.github.io/python-novice-inflammation/"
   ]
  },
  {
   "cell_type": "code",
   "execution_count": null,
   "metadata": {},
   "outputs": [],
   "source": []
  }
 ],
 "metadata": {
  "colab": {
   "collapsed_sections": [
    "qiVIlE3ecVZE",
    "CRclVvBWcVZV",
    "LIddUmPBcVZp",
    "YtJ50hBDcVZ1",
    "qfHAiYsQcVZ-",
    "65oYc7PycVZf",
    "sEtWgqVccVaJ"
   ],
   "name": "Intro to Python.ipynb",
   "provenance": []
  },
  "kernelspec": {
   "display_name": "Python 3",
   "language": "python",
   "name": "python3"
  },
  "language_info": {
   "codemirror_mode": {
    "name": "ipython",
    "version": 3
   },
   "file_extension": ".py",
   "mimetype": "text/x-python",
   "name": "python",
   "nbconvert_exporter": "python",
   "pygments_lexer": "ipython3",
   "version": "3.8.2"
  }
 },
 "nbformat": 4,
 "nbformat_minor": 1
}
